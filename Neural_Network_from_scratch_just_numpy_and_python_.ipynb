{
  "nbformat": 4,
  "nbformat_minor": 0,
  "metadata": {
    "colab": {
      "provenance": [],
      "authorship_tag": "ABX9TyPlblcERWqmOLJdIH94P+Ui"
    },
    "kernelspec": {
      "name": "python3",
      "display_name": "Python 3"
    },
    "language_info": {
      "name": "python"
    }
  },
  "cells": [
    {
      "cell_type": "code",
      "source": [
        "import numpy\n",
        "a=numpy.zeros([3,2]);\n",
        "print(a);"
      ],
      "metadata": {
        "colab": {
          "base_uri": "https://localhost:8080/"
        },
        "id": "Hzv7GWVrfDxO",
        "outputId": "4076d718-00c4-4af6-d3d5-88a21033e454"
      },
      "execution_count": null,
      "outputs": [
        {
          "output_type": "stream",
          "name": "stdout",
          "text": [
            "[[0. 0.]\n",
            " [0. 0.]\n",
            " [0. 0.]]\n"
          ]
        }
      ]
    },
    {
      "cell_type": "code",
      "source": [
        "import numpy\n",
        "numpy.random.rand(3,3)-0.5"
      ],
      "metadata": {
        "colab": {
          "base_uri": "https://localhost:8080/"
        },
        "id": "kLPxSodpBHIc",
        "outputId": "c14c7bff-7044-48a5-f670-0f9e94b9af2f"
      },
      "execution_count": null,
      "outputs": [
        {
          "output_type": "execute_result",
          "data": {
            "text/plain": [
              "array([[-0.33038028, -0.15532502, -0.14859271],\n",
              "       [ 0.31366615,  0.23166125,  0.03242001],\n",
              "       [ 0.05319462, -0.49673627, -0.15693124]])"
            ]
          },
          "metadata": {},
          "execution_count": 6
        }
      ]
    },
    {
      "cell_type": "code",
      "source": [
        "a[0,0]=1;\n",
        "a[0,1]=2;\n",
        "a[1,0]=3;\n",
        "a[1,1]=4;\n",
        "a[2,0]=5;\n",
        "a[2,1]=6;\n",
        "print(a);"
      ],
      "metadata": {
        "colab": {
          "base_uri": "https://localhost:8080/"
        },
        "id": "Ez7VJpG4fJ94",
        "outputId": "f4ece8ec-d4d3-438a-dd87-8234429e45dc"
      },
      "execution_count": null,
      "outputs": [
        {
          "output_type": "stream",
          "name": "stdout",
          "text": [
            "[[1. 2.]\n",
            " [3. 4.]\n",
            " [5. 6.]]\n"
          ]
        }
      ]
    },
    {
      "cell_type": "code",
      "source": [
        "import matplotlib.pyplot;\n",
        "matplotlib.pyplot.imshow(a,interpolation=\"nearest\")"
      ],
      "metadata": {
        "colab": {
          "base_uri": "https://localhost:8080/",
          "height": 452
        },
        "id": "FxmVF8b6rK3C",
        "outputId": "c0e2ff61-f04f-4505-fcf0-015952700102"
      },
      "execution_count": null,
      "outputs": [
        {
          "output_type": "execute_result",
          "data": {
            "text/plain": [
              "<matplotlib.image.AxesImage at 0x77fbf9a127d0>"
            ]
          },
          "metadata": {},
          "execution_count": 12
        },
        {
          "output_type": "display_data",
          "data": {
            "text/plain": [
              "<Figure size 640x480 with 1 Axes>"
            ],
            "image/png": "[encoded data removed]"
          },
          "metadata": {}
        }
      ]
    },
    {
      "cell_type": "markdown",
      "source": [
        "# **`Neural Network start from here by just Numpy and Python (scratch) `**"
      ],
      "metadata": {
        "id": "zBAKE3EXSqDl"
      }
    },
    {
      "cell_type": "code",
      "source": [
        "import scipy.special\n",
        "import matplotlib.pyplot\n",
        "import numpy\n",
        "class neuralNetwork:\n",
        "  # Initialise the input,hidden,output\n",
        "  def __init__(self,inputnode,hiddennode,outputnode,learningrate):\n",
        "    self.inode=inputnode\n",
        "    self.hnode=hiddennode\n",
        "    self.onode=outputnode\n",
        "    self.lr=learningrate\n",
        "\n",
        "    self.wih=numpy.random.normal(0.0,pow(self.hnode,-0.5),(self.hnode,self.inode))\n",
        "    self.woh=numpy.random.normal(0.0,pow(self.onode,-0.5),(self.onode,self.hnode))\n",
        "    self.activation_function = lambda x : scipy.special.expit(x)\n",
        "    pass\n",
        "\n",
        "  # Train the neural network\n",
        "  def train(self,input_list,target_list):\n",
        "    input = numpy.array(input_list,ndmin=2).T\n",
        "    target = numpy.array(target_list,ndmin=2).T\n",
        "\n",
        "    hidden_input = numpy.dot(self.wih,input)\n",
        "    hidden_output = self.activation_function(hidden_input)\n",
        "\n",
        "    final_input = numpy.dot(self.woh,hidden_output)\n",
        "    final_output = self.activation_function(final_input)\n",
        "\n",
        "    output_error = target-final_output\n",
        "    hidden_error = numpy.dot(self.woh.T,output_error)\n",
        "\n",
        "    self.woh += self.lr * numpy.dot((output_error * final_output * (1.0 - final_output)),numpy.transpose(hidden_output))\n",
        "    self.wih += self.lr * numpy.dot((hidden_error * hidden_output * (1.0 - hidden_output)),numpy.transpose(input))\n",
        "    pass\n",
        "\n",
        "  # Query the neural network\n",
        "  def query(self,input_list):\n",
        "    input = numpy.array(input_list,ndmin=2).T\n",
        "    hidden_input = numpy.dot(self.wih,input)\n",
        "    hidden_output = self.activation_function(hidden_input)\n",
        "\n",
        "    final_input = numpy.dot(self.woh,hidden_output)\n",
        "    final_output = self.activation_function(final_input)\n",
        "    return final_output\n"
      ],
      "metadata": {
        "id": "QHsp-G9jw80f"
      },
      "execution_count": 43,
      "outputs": []
    },
    {
      "cell_type": "code",
      "source": [
        "input_node = 784\n",
        "hidden_node = 100\n",
        "output_node = 10\n",
        "learning_rate = 0.3\n",
        "n = neuralNetwork(input_node,hidden_node,output_node,learning_rate)\n",
        "# n.query([1.0,0.5,-1.5])\n"
      ],
      "metadata": {
        "id": "WD9vmejczDj7"
      },
      "execution_count": 44,
      "outputs": []
    },
    {
      "cell_type": "code",
      "source": [
        "training_data_files = open(\"mnist_train_100.csv\",\"r\")\n",
        "training_data_list = training_data_files.readlines()\n",
        "training_data_files.close()"
      ],
      "metadata": {
        "id": "JKtF5iAiruFc"
      },
      "execution_count": 3,
      "outputs": []
    },
    {
      "cell_type": "code",
      "source": [
        "len(training_data_list)"
      ],
      "metadata": {
        "colab": {
          "base_uri": "https://localhost:8080/"
        },
        "id": "Qwvf9pUSsC8P",
        "outputId": "1eb8c7fb-5de8-4d06-8dc4-012990cb1ba0"
      },
      "execution_count": 4,
      "outputs": [
        {
          "output_type": "execute_result",
          "data": {
            "text/plain": [
              "100"
            ]
          },
          "metadata": {},
          "execution_count": 4
        }
      ]
    },
    {
      "cell_type": "code",
      "source": [
        "training_data_list[0]"
      ],
      "metadata": {
        "colab": {
          "base_uri": "https://localhost:8080/",
          "height": 191
        },
        "id": "aGXyPrqQsGdQ",
        "outputId": "d0f52be4-a212-494b-9503-1e6c3602d9ed"
      },
      "execution_count": 5,
      "outputs": [
        {
          "output_type": "execute_result",
          "data": {
            "text/plain": [
              "'5,0,0,0,0,0,0,0,0,0,0,0,0,0,0,0,0,0,0,0,0,0,0,0,0,0,0,0,0,0,0,0,0,0,0,0,0,0,0,0,0,0,0,0,0,0,0,0,0,0,0,0,0,0,0,0,0,0,0,0,0,0,0,0,0,0,0,0,0,0,0,0,0,0,0,0,0,0,0,0,0,0,0,0,0,0,0,0,0,0,0,0,0,0,0,0,0,0,0,0,0,0,0,0,0,0,0,0,0,0,0,0,0,0,0,0,0,0,0,0,0,0,0,0,0,0,0,0,0,0,0,0,0,0,0,0,0,0,0,0,0,0,0,0,0,0,0,0,0,0,0,0,0,3,18,18,18,126,136,175,26,166,255,247,127,0,0,0,0,0,0,0,0,0,0,0,0,30,36,94,154,170,253,253,253,253,253,225,172,253,242,195,64,0,0,0,0,0,0,0,0,0,0,0,49,238,253,253,253,253,253,253,253,253,251,93,82,82,56,39,0,0,0,0,0,0,0,0,0,0,0,0,18,219,253,253,253,253,253,198,182,247,241,0,0,0,0,0,0,0,0,0,0,0,0,0,0,0,0,0,0,80,156,107,253,253,205,11,0,43,154,0,0,0,0,0,0,0,0,0,0,0,0,0,0,0,0,0,0,0,14,1,154,253,90,0,0,0,0,0,0,0,0,0,0,0,0,0,0,0,0,0,0,0,0,0,0,0,0,0,139,253,190,2,0,0,0,0,0,0,0,0,0,0,0,0,0,0,0,0,0,0,0,0,0,0,0,0,11,190,253,70,0,0,0,0,0,0,0,0,0,0,0,0,0,0,0,0,0,0,0,0,0,0,0,0,0,35,241,225,160,108,1,0,0,0,0,0,0,0,0,0,0,0,0,0,0,0,0,0,0,0,0,0,0,0,81,240,253,253,119,25,0,0,0,0,0,0,0,0,0,0,0,0,0,0,0,0,0,0,0,0,0,0,0,45,186,253,253,150,27,0,0,0,0,0,0,0,0,0,0,0,0,0,0,0,0,0,0,0,0,0,0,0,16,93,252,253,187,0,0,0,0,0,0,0,0,0,0,0,0,0,0,0,0,0,0,0,0,0,0,0,0,0,249,253,249,64,0,0,0,0,0,0,0,0,0,0,0,0,0,0,0,0,0,0,0,0,0,46,130,183,253,253,207,2,0,0,0,0,0,0,0,0,0,0,0,0,0,0,0,0,0,0,0,39,148,229,253,253,253,250,182,0,0,0,0,0,0,0,0,0,0,0,0,0,0,0,0,0,0,24,114,221,253,253,253,253,201,78,0,0,0,0,0,0,0,0,0,0,0,0,0,0,0,0,0,23,66,213,253,253,253,253,198,81,2,0,0,0,0,0,0,0,0,0,0,0,0,0,0,0,0,18,171,219,253,253,253,253,195,80,9,0,0,0,0,0,0,0,0,0,0,0,0,0,0,0,0,55,172,226,253,253,253,253,244,133,11,0,0,0,0,0,0,0,0,0,0,0,0,0,0,0,0,0,0,136,253,253,253,212,135,132,16,0,0,0,0,0,0,0,0,0,0,0,0,0,0,0,0,0,0,0,0,0,0,0,0,0,0,0,0,0,0,0,0,0,0,0,0,0,0,0,0,0,0,0,0,0,0,0,0,0,0,0,0,0,0,0,0,0,0,0,0,0,0,0,0,0,0,0,0,0,0,0,0,0,0,0,0,0,0,0,0,0,0,0,0,0,0,0,0,0,0,0,0,0,0,0,0,0,0,0,0\\n'"
            ],
            "application/vnd.google.colaboratory.intrinsic+json": {
              "type": "string"
            }
          },
          "metadata": {},
          "execution_count": 5
        }
      ]
    },
    {
      "cell_type": "code",
      "source": [
        "epoch = 2\n",
        "for e in range(epoch):\n",
        "  for records in training_data_list:\n",
        "    all_values = records.split(\",\")\n",
        "    input = (numpy.asfarray(all_values[1:]) / 255.0 * 0.99) + 0.01\n",
        "    target = numpy.zeros(output_node) + 0.01\n",
        "    target[int(all_values[0])] = 0.99\n",
        "    n.train(input,target)\n",
        "  pass\n",
        "pass"
      ],
      "metadata": {
        "id": "4YVRLJrat9Hi"
      },
      "execution_count": 6,
      "outputs": []
    },
    {
      "cell_type": "code",
      "source": [
        "test_data_file = open(\"mnist_test_10.csv\",\"r\")\n",
        "test_data_list = test_data_file.readlines()\n",
        "test_data_file.close()"
      ],
      "metadata": {
        "id": "OgCEPKe9zJb2"
      },
      "execution_count": 7,
      "outputs": []
    },
    {
      "cell_type": "code",
      "source": [
        "all_values = test_data_list[5].split(\",\")\n",
        "print(all_values[0])"
      ],
      "metadata": {
        "colab": {
          "base_uri": "https://localhost:8080/"
        },
        "id": "RZ8y02Rhzno_",
        "outputId": "d32239eb-a134-4043-ce80-17d3a105a48b"
      },
      "execution_count": 37,
      "outputs": [
        {
          "output_type": "stream",
          "name": "stdout",
          "text": [
            "1\n"
          ]
        }
      ]
    },
    {
      "cell_type": "code",
      "source": [
        "image_array = numpy.asfarray(all_values[1:]).reshape(28,28)\n",
        "matplotlib.pyplot.imshow(image_array,cmap=\"Greys\",interpolation=\"None\")"
      ],
      "metadata": {
        "colab": {
          "base_uri": "https://localhost:8080/",
          "height": 447
        },
        "id": "ROFJ1HbP0Ml8",
        "outputId": "e14b95dc-be0a-489a-a743-11e6f87671b1"
      },
      "execution_count": 38,
      "outputs": [
        {
          "output_type": "execute_result",
          "data": {
            "text/plain": [
              "<matplotlib.image.AxesImage at 0x7d6a39fe7250>"
            ]
          },
          "metadata": {},
          "execution_count": 38
        },
        {
          "output_type": "display_data",
          "data": {
            "text/plain": [
              "<Figure size 640x480 with 1 Axes>"
            ],
            "image/png": "[encoded data removed]"
          },
          "metadata": {}
        }
      ]
    },
    {
      "cell_type": "code",
      "source": [
        "n.query((numpy.asfarray(all_values[1:]) / 255 * 0.99) + 0.01)"
      ],
      "metadata": {
        "colab": {
          "base_uri": "https://localhost:8080/"
        },
        "id": "xOZnPUcZ0p15",
        "outputId": "62191f45-f272-4eb0-d376-eadfa60af47f"
      },
      "execution_count": 39,
      "outputs": [
        {
          "output_type": "execute_result",
          "data": {
            "text/plain": [
              "array([[0.01353156],\n",
              "       [0.96681712],\n",
              "       [0.05367778],\n",
              "       [0.07536783],\n",
              "       [0.01855063],\n",
              "       [0.04265803],\n",
              "       [0.00258487],\n",
              "       [0.06274998],\n",
              "       [0.05440391],\n",
              "       [0.00777325]])"
            ]
          },
          "metadata": {},
          "execution_count": 39
        }
      ]
    },
    {
      "cell_type": "code",
      "source": [
        "scorecard = []\n",
        "for record in test_data_list:\n",
        "  all_values = record.split(\",\")\n",
        "  correct_label = int(all_values[0])\n",
        "  input = (numpy.asfarray(all_values[1:]) / 255 * 0.99) + 0.01\n",
        "  output = n.query(input)\n",
        "  label = numpy.argmax(output)\n",
        "  if(label == correct_label):\n",
        "    scorecard.append(1)\n",
        "  else:\n",
        "    scorecard.append(0)\n",
        "pass"
      ],
      "metadata": {
        "id": "mIJ-vx733yeL"
      },
      "execution_count": 40,
      "outputs": []
    },
    {
      "cell_type": "code",
      "source": [
        "print(scorecard)"
      ],
      "metadata": {
        "colab": {
          "base_uri": "https://localhost:8080/"
        },
        "id": "eT1LVsew46Sq",
        "outputId": "8c41c4a7-7c99-44ac-f699-d86cb60b2cd4"
      },
      "execution_count": 41,
      "outputs": [
        {
          "output_type": "stream",
          "name": "stdout",
          "text": [
            "[1, 1, 1, 1, 1, 1, 1, 0, 0, 0]\n"
          ]
        }
      ]
    },
    {
      "cell_type": "code",
      "source": [
        "score_array = numpy.asarray(scorecard)\n",
        "performance = score_array.sum() / score_array.size\n",
        "print(\"Acccuracy is : \",performance * 100)"
      ],
      "metadata": {
        "colab": {
          "base_uri": "https://localhost:8080/"
        },
        "id": "jP5-xBjd48eE",
        "outputId": "5fb818cb-9e82-4f2d-d1e2-7e07ae33bed2"
      },
      "execution_count": 42,
      "outputs": [
        {
          "output_type": "stream",
          "name": "stdout",
          "text": [
            "Acccuracy is :  70.0\n"
          ]
        }
      ]
    }
  ]
}